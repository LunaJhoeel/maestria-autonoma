{
 "cells": [
  {
   "cell_type": "markdown",
   "id": "edf63bbd",
   "metadata": {},
   "source": [
    "# Análisis Estadístico"
   ]
  },
  {
   "cell_type": "markdown",
   "id": "4a1707a1",
   "metadata": {},
   "source": [
    "La siguiente notebook tiene como objetivo resolver el punto 04 del trabajo final del curso de Analisis de Datos. Lo primero es abrir los datos"
   ]
  },
  {
   "cell_type": "code",
   "execution_count": null,
   "id": "8eb42c21",
   "metadata": {},
   "outputs": [],
   "source": []
  },
  {
   "cell_type": "markdown",
   "id": "1ba94e09",
   "metadata": {},
   "source": [
    "### Estadística Descriptiva"
   ]
  },
  {
   "cell_type": "markdown",
   "id": "4f021df1",
   "metadata": {},
   "source": [
    "### Distribución de Probabilidad"
   ]
  },
  {
   "cell_type": "markdown",
   "id": "2e8451f7",
   "metadata": {},
   "source": [
    "### Muestreo y Estimaciones"
   ]
  },
  {
   "cell_type": "markdown",
   "id": "76b00475",
   "metadata": {},
   "source": [
    "### Pruebas de Hipótesis"
   ]
  }
 ],
 "metadata": {
  "kernelspec": {
   "display_name": "Python 3 (ipykernel)",
   "language": "python",
   "name": "python3"
  },
  "language_info": {
   "codemirror_mode": {
    "name": "ipython",
    "version": 3
   },
   "file_extension": ".py",
   "mimetype": "text/x-python",
   "name": "python",
   "nbconvert_exporter": "python",
   "pygments_lexer": "ipython3",
   "version": "3.11.13"
  }
 },
 "nbformat": 4,
 "nbformat_minor": 5
}
